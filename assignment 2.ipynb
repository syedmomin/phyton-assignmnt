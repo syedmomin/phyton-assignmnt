{
 "cells": [
  {
   "cell_type": "code",
   "execution_count": 16,
   "metadata": {},
   "outputs": [
    {
     "name": "stdout",
     "output_type": "stream",
     "text": [
      "Enter 'x' for exit.\n",
      "Enter marks obtained in 5 subjects: \n",
      "Enter marks of the first subject:76\n",
      "Enter marks of the Second subject:65\n",
      "Enter marks of the Third subject:85\n",
      "Enter marks of the Fourth subject:45\n",
      "Enter marks of the Fifth subject:56\n",
      "Your Grade is B\n"
     ]
    }
   ],
   "source": [
    "print(\"Enter 'x' for exit.\");\n",
    "print(\"Enter marks obtained in 5 subjects: \");\n",
    "mark1 = input(\"Enter marks of the first subject:\" );\n",
    "if mark1 == 'x':\n",
    "    exit();\n",
    "else:\n",
    "    mark1 = int(mark1);\n",
    "    mark2 = int(input(\"Enter marks of the Second subject:\"));\n",
    "    mark3 = int(input(\"Enter marks of the Third subject:\"));\n",
    "    mark4 = int(input(\"Enter marks of the Fourth subject:\"));\n",
    "    mark5 = int(input(\"Enter marks of the Fifth subject:\"));\n",
    "    sum = mark1 + mark2 + mark3 + mark4 + mark5;\n",
    "    average = sum/5;\n",
    "    if(average>=91 and average<=100):\n",
    "    \tprint(\"Your Grade is A+\");\n",
    "    elif(average>=81 and average<=90):\n",
    "    \tprint(\"Your Grade is A\");\n",
    "    elif(average>=71 and average<=80):\n",
    "    \tprint(\"Your Grade is B+\");\n",
    "    elif(average>=61 and average<=70):\n",
    "    \tprint(\"Your Grade is B\");\n",
    "    elif(average>=51 and average<=60):\n",
    "    \tprint(\"Your Grade is C+\");\n",
    "    elif(average>=41 and average<=50):\n",
    "    \tprint(\"Your Grade is C\");\n",
    "    elif(average>=0 and average<=40):\n",
    "    \tprint(\"Your Grade is F\");\n",
    "    else:\n",
    "    \tprint(\"Strange Grade..!!\");"
   ]
  },
  {
   "cell_type": "code",
   "execution_count": 4,
   "metadata": {},
   "outputs": [
    {
     "name": "stdout",
     "output_type": "stream",
     "text": [
      "Enter a number: 86\n",
      "This is an even number.\n"
     ]
    }
   ],
   "source": [
    "num = int(input(\"Enter a number: \"))\n",
    "mod = num % 2\n",
    "if mod > 0:\n",
    "    print(\"This is an odd number.\")\n",
    "else:\n",
    "    print(\"This is an even number.\")"
   ]
  },
  {
   "cell_type": "code",
   "execution_count": 5,
   "metadata": {},
   "outputs": [
    {
     "name": "stdout",
     "output_type": "stream",
     "text": [
      "The length of list is:  4\n"
     ]
    }
   ],
   "source": [
    "a = [] \n",
    "a.append(\"Hello\") \n",
    "a.append(\"Geeks\") \n",
    "a.append(\"For\") \n",
    "a.append(\"Geeks\") \n",
    "print(\"The length of list is: \", len(a)) "
   ]
  },
  {
   "cell_type": "code",
   "execution_count": 7,
   "metadata": {},
   "outputs": [
    {
     "name": "stdout",
     "output_type": "stream",
     "text": [
      "How many numbers: 10\n",
      "Enter number 58\n",
      "Enter number 65\n",
      "Enter number 48\n",
      "Enter number 35\n",
      "Enter number 46\n",
      "Enter number 34\n",
      "Enter number 634\n",
      "Enter number 34\n",
      "Enter number 56345\n",
      "Enter number 435\n",
      "Sum of elements in given list is : 57734\n"
     ]
    }
   ],
   "source": [
    "lst = []\n",
    "num = int(input('How many numbers: '))\n",
    "for n in range(num):\n",
    "    numbers = int(input('Enter number '))\n",
    "    lst.append(numbers)\n",
    "print(\"Sum of elements in given list is :\", sum(lst))"
   ]
  },
  {
   "cell_type": "code",
   "execution_count": 14,
   "metadata": {},
   "outputs": [
    {
     "name": "stdout",
     "output_type": "stream",
     "text": [
      "[1, 1, 2, 3]\n"
     ]
    }
   ],
   "source": [
    "a = [1, 1, 2, 3, 5, 8, 13, 21, 34, 55, 89]\n",
    "\n",
    "new_list = []\n",
    "\n",
    "for item in a:\n",
    "    if item < 5:\n",
    "        new_list.append(item)\n",
    "print(new_list)\n"
   ]
  },
  {
   "cell_type": "code",
   "execution_count": null,
   "metadata": {},
   "outputs": [],
   "source": []
  }
 ],
 "metadata": {
  "kernelspec": {
   "display_name": "Python 3",
   "language": "python",
   "name": "python3"
  },
  "language_info": {
   "codemirror_mode": {
    "name": "ipython",
    "version": 3
   },
   "file_extension": ".py",
   "mimetype": "text/x-python",
   "name": "python",
   "nbconvert_exporter": "python",
   "pygments_lexer": "ipython3",
   "version": "3.7.3"
  }
 },
 "nbformat": 4,
 "nbformat_minor": 2
}
