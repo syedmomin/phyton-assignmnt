{
 "cells": [
  {
   "cell_type": "code",
   "execution_count": 6,
   "metadata": {},
   "outputs": [
    {
     "name": "stdout",
     "output_type": "stream",
     "text": [
      "Define Object Oriented Programming Language?\n",
      "\n",
      "\n",
      "Python is an “object-oriented programming language.” \n",
      "This means that almost all the code is implemented using a \n",
      "special construct called classes. Programmers use classes to keep \n",
      "related things together. This is done using the keyword “class,” \n",
      "which is a grouping of object-oriented constructs\n"
     ]
    }
   ],
   "source": [
    "print('Define Object Oriented Programming Language?\\n\\n')\n",
    "\n",
    "print('Python is an “object-oriented programming language.” ')\n",
    "print('This means that almost all the code is implemented using a ')\n",
    "print('special construct called classes. Programmers use classes to keep ')\n",
    "print('related things together. This is done using the keyword “class,” ')\n",
    "print('which is a grouping of object-oriented constructs')"
   ]
  },
  {
   "cell_type": "code",
   "execution_count": 12,
   "metadata": {},
   "outputs": [
    {
     "name": "stdout",
     "output_type": "stream",
     "text": [
      "List down the Benefits of OOP?\n",
      "\n",
      "\n",
      "Modularity for easier troubleshooting. Something has gone wrong, and you have no idea where to look.\n",
      "Reuse of code through inheritance.\n",
      "Flexibility through polymorphism.\n",
      "Effective problem solving.\n"
     ]
    }
   ],
   "source": [
    "print('List down the Benefits of OOP?\\n\\n')\n",
    "\n",
    "print('Modularity for easier troubleshooting. Something has gone wrong, and you have no idea where to look.\\nReuse of code through inheritance.\\nFlexibility through polymorphism.\\nEffective problem solving.')\n"
   ]
  },
  {
   "cell_type": "code",
   "execution_count": 13,
   "metadata": {},
   "outputs": [
    {
     "name": "stdout",
     "output_type": "stream",
     "text": [
      "Differentiate between function and method?\n",
      "\n",
      "\n",
      "Python method is called on an object, unlike a function.\n",
      " Since we call a method on an object, it can access the\n",
      " data within it. A method may alter an object,s state,\n",
      " but Python function usually only operates on it,\n",
      " and then prints something or returns a value\n"
     ]
    }
   ],
   "source": [
    "print('Differentiate between function and method?\\n\\n')\n",
    "print('Python method is called on an object, unlike a function.\\n Since we call a method on an object, it can access the\\n data within it. A method may alter an object,s state,\\n but Python function usually only operates on it,\\n and then prints something or returns a value')\n"
   ]
  },
  {
   "cell_type": "code",
   "execution_count": 1,
   "metadata": {},
   "outputs": [
    {
     "name": "stdout",
     "output_type": "stream",
     "text": [
      "After local assignment: test spam\n",
      "After global assignment: test spam\n",
      "In global scope: global spam\n"
     ]
    }
   ],
   "source": [
    "def scope_test():\n",
    "    def do_local():\n",
    "        spam = \"local spam\"\n",
    "    def do_global():\n",
    "        global spam\n",
    "        spam = \"global spam\"\n",
    "\n",
    "    spam = \"test spam\"\n",
    "    do_local()\n",
    "    print(\"After local assignment:\", spam)\n",
    "    do_global()\n",
    "    print(\"After global assignment:\", spam)\n",
    "\n",
    "scope_test()\n",
    "print(\"In global scope:\", spam)\n"
   ]
  },
  {
   "cell_type": "code",
   "execution_count": 2,
   "metadata": {},
   "outputs": [
    {
     "name": "stdout",
     "output_type": "stream",
     "text": [
      "Name :  Zara , Salary:  2000\n",
      "Name :  Manni , Salary:  5000\n",
      "Total Employee 2\n"
     ]
    }
   ],
   "source": [
    "class Employee:\n",
    "   \n",
    "   empCount = 0\n",
    "\n",
    "   def __init__(self, name, salary):\n",
    "      self.name = name\n",
    "      self.salary = salary\n",
    "      Employee.empCount += 1\n",
    "   \n",
    "   def displayCount(self):\n",
    "     print (\"Total Employee %d\" % Employee.empCount)\n",
    "\n",
    "   def displayEmployee(self):\n",
    "      print (\"Name : \", self.name,  \", Salary: \", self.salary)\n",
    "\n",
    "\n",
    "emp1 = Employee(\"Zara\", 2000)\n",
    "emp2 = Employee(\"Manni\", 5000)\n",
    "emp1.displayEmployee()\n",
    "emp2.displayEmployee()\n",
    "print (\"Total Employee %d\" % Employee.empCount)"
   ]
  },
  {
   "cell_type": "code",
   "execution_count": 4,
   "metadata": {},
   "outputs": [
    {
     "name": "stdout",
     "output_type": "stream",
     "text": [
      "Corrola\n",
      "1\n",
      "City\n",
      "2\n"
     ]
    }
   ],
   "source": [
    "class Car:\n",
    "\n",
    "    car_count = 0\n",
    "    def start(self, name, make, model,color,wheels):\n",
    "        self.name = name\n",
    "        self.make = make\n",
    "        self.model = model\n",
    "        Car.car_count += 1\n",
    "\n",
    "car_a = Car()\n",
    "car_a.start(\"Corrola\", \"Toyota\", 2015,\"black\",4)\n",
    "print(car_a.car_count)\n",
    "print(car_a.name)\n",
    "print(car_a.make)\n",
    "print(car_a.model)\n",
    "print(car_a.color)\n",
    "print(car_a.wheels)\n",
    "\n",
    "\n",
    "car_b = Car()\n",
    "car_b.start(\"City\", \"Honda\", 2013)\n",
    "print(car_a.name)\n",
    "print(car_a.make)\n",
    "print(car_a.model)\n",
    "print(car_a.color)\n",
    "print(car_a.wheels)\n",
    "print(car_b.car_count)"
   ]
  },
  {
   "cell_type": "code",
   "execution_count": null,
   "metadata": {},
   "outputs": [],
   "source": []
  }
 ],
 "metadata": {
  "kernelspec": {
   "display_name": "",
   "name": ""
  },
  "language_info": {
   "codemirror_mode": {
    "name": "ipython",
    "version": 3
   },
   "file_extension": ".py",
   "mimetype": "text/x-python",
   "name": "python",
   "nbconvert_exporter": "python",
   "pygments_lexer": "ipython3",
   "version": "3.7.3"
  }
 },
 "nbformat": 4,
 "nbformat_minor": 4
}
